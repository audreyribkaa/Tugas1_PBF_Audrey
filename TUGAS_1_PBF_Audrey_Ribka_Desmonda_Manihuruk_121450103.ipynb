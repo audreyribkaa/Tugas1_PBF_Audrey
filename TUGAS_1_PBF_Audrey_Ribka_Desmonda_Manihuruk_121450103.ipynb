{
  "nbformat": 4,
  "nbformat_minor": 0,
  "metadata": {
    "colab": {
      "provenance": []
    },
    "kernelspec": {
      "name": "python3",
      "display_name": "Python 3"
    },
    "language_info": {
      "name": "python"
    }
  },
  "cells": [
    {
      "cell_type": "markdown",
      "source": [
        "##NAMA  : Audrey Ribka Desmonda Manihuruk\n",
        "##KELAS : RB\n",
        "##NIM   :121450103\n",
        "\n",
        "\n"
      ],
      "metadata": {
        "id": "H8_yNQ_g7uqg"
      }
    },
    {
      "cell_type": "markdown",
      "source": [
        "SOAL\n",
        "\n",
        "1 Jelaskan menggunakan tabel mengenai kelebihan dan kekurangan paradigma procedural dibandingkan dengan object oriented (minimal 3) !\n",
        "\n",
        "2 Jelaskan menggunakan tabel megenai kelebihan dan kekurangan paradigma object oriented dibandingkan dengan functional (minimal 3) !\n",
        "\n",
        "3 Jelaskan menggunakan tabel mengenai kelebihan dan kekurangan paradigma prosedural dibandingkan dengan functional (minimal 3) ! \n",
        "\n",
        "4 Apa yang dimaksud dengan pure functional programming languange ?\n",
        "\n",
        "5 Dari bahasa pemrograman FP di slide sebelumnya (slide 14), manakah yang termasuk pure functional programming languange ?\n",
        "\n"
      ],
      "metadata": {
        "id": "G_Zk2ePqDn_5"
      }
    },
    {
      "cell_type": "markdown",
      "source": [
        "## **1. Jelaskan menggunakan tabel mengenai kelebihan dan kekurangan paradigma Procedural dibandingkan dengan Object Oriented (minimal 3) !**\n",
        "## **Kelebihan Procedural dibandingkan object oriented**"
      ],
      "metadata": {
        "id": "W5BKERW5BG4F"
      }
    },
    {
      "cell_type": "code",
      "source": [
        "from tabulate import tabulate\n",
        "data = [[\"Lebih mudah dipahami dibandingkan Object Oriented\",\"Lebih sulit dipahami dibandingkan Procedural\"],\n",
        "        [\"Membutuhkan memori lebih sedikit dibanding Object Oriented\",\"Membutuhkan memori lebih besar dibanding Procedural\"]\n",
        "        ,[\"Cocok untuk program/aplikasi sederhana\",\"Kurang cocok untuk program/aplikasi sederhana\"]]\n",
        "print(tabulate(data, headers=[\"Procedural\",\"Oriented\"],tablefmt=\"fancy_grid\"))"
      ],
      "metadata": {
        "colab": {
          "base_uri": "https://localhost:8080/"
        },
        "id": "e4j5H3GxBkGs",
        "outputId": "525174fe-84d4-46c7-fae3-8482312d856a"
      },
      "execution_count": null,
      "outputs": [
        {
          "output_type": "stream",
          "name": "stdout",
          "text": [
            "╒════════════════════════════════════════════════════════════╤═════════════════════════════════════════════════════╕\n",
            "│ Procedural                                                 │ Oriented                                            │\n",
            "╞════════════════════════════════════════════════════════════╪═════════════════════════════════════════════════════╡\n",
            "│ Lebih mudah dipahami dibandingkan Object Oriented          │ Lebih sulit dipahami dibandingkan Procedural        │\n",
            "├────────────────────────────────────────────────────────────┼─────────────────────────────────────────────────────┤\n",
            "│ Membutuhkan memori lebih sedikit dibanding Object Oriented │ Membutuhkan memori lebih besar dibanding Procedural │\n",
            "├────────────────────────────────────────────────────────────┼─────────────────────────────────────────────────────┤\n",
            "│ Cocok untuk program/aplikasi sederhana                     │ Kurang cocok untuk program/aplikasi sederhana       │\n",
            "╘════════════════════════════════════════════════════════════╧═════════════════════════════════════════════════════╛\n"
          ]
        }
      ]
    },
    {
      "cell_type": "markdown",
      "source": [
        "## **Kekurangan Procedural dibandingkan Object Oriented**"
      ],
      "metadata": {
        "id": "DsH7oT6RBiQs"
      }
    },
    {
      "cell_type": "code",
      "source": [
        "from tabulate import tabulate\n",
        "data = [[\"Kurang cocok untuk program/aplikasi complex\",\"Cocok untuk program/aplikasi complex\"],\n",
        "        [\"Data Bersifat pasif\",\"Objek bersifat aktif\"],\n",
        "        [\"Sulit dimodifikasi\",\"Lebih mudah dimodifikasi\"]]\n",
        "        \n",
        "print(tabulate(data, headers=[\"Procedural\",\"Oriented\"],tablefmt=\"fancy_grid\"))"
      ],
      "metadata": {
        "colab": {
          "base_uri": "https://localhost:8080/"
        },
        "id": "Tj-yxEUoB67w",
        "outputId": "7692c972-a47f-4778-f506-72412eefa4e4"
      },
      "execution_count": null,
      "outputs": [
        {
          "output_type": "stream",
          "name": "stdout",
          "text": [
            "╒═════════════════════════════════════════════╤══════════════════════════════════════╕\n",
            "│ Procedural                                  │ Oriented                             │\n",
            "╞═════════════════════════════════════════════╪══════════════════════════════════════╡\n",
            "│ Kurang cocok untuk program/aplikasi complex │ Cocok untuk program/aplikasi complex │\n",
            "├─────────────────────────────────────────────┼──────────────────────────────────────┤\n",
            "│ Data Bersifat pasif                         │ Objek bersifat aktif                 │\n",
            "├─────────────────────────────────────────────┼──────────────────────────────────────┤\n",
            "│ Sulit dimodifikasi                          │ Lebih mudah dimodifikasi             │\n",
            "╘═════════════════════════════════════════════╧══════════════════════════════════════╛\n"
          ]
        }
      ]
    },
    {
      "cell_type": "markdown",
      "source": [
        "## **2. Jelaskan menggunakan tabel mengenai kelebihan dan kekurangan paradigma Object Oriented dibandingkan dengan Functional (minimal 3) !**"
      ],
      "metadata": {
        "id": "Evtrg97PCCVt"
      }
    },
    {
      "cell_type": "markdown",
      "source": [
        "<h4 style=\"text-align: center; font-weight : Bold;\">Kelebihan paradigma object oriented dibandingkan dengan functional</h4>\n",
        "\n",
        "|OOP|Paradigma Functional|\n",
        "|---|--------------------|\n",
        "|OOP meniru objek real-world, sehingga membuat pengolahan data/objek lebih mudah untuk dipahami.| Membuat program menjadi lebih modular yang artinya perangkat lunak dapat lebih mudah untuk ditambah atau dikurangi fiturnya.| \n",
        "|Memfasilitasi pemodelan konsep abstrak seperti objek dan hubungan antar objek.  | Mengubah masalah kompleks menjadi potongan-potongan kecil yang jauh lebih sederhana untuk diselesaikan.| \n",
        "|Menawarkan kemudahan manajemen kode karena gaya coding modularnya. | Tidak menyediakan penyembunyian data, keamanan tidak dimungkinkan. |\n",
        "\n",
        "<br>\n",
        "<h4 style=\"text-align: center; font-weight : Bold;\">Kekurangan paradigma object oriented dibandingkan dengan functional</h4>\n",
        "\n",
        "|OOP|Paradigma Functional|\n",
        "|---|--------------------|\n",
        "|Program Berorientasi Objek cenderung lebih lambat dan menghabiskan banyak memori.| Kode prosedural sering kali tidak dapat digunakan ulang, tentunya karena paradigma ini tidak membuat fungsi atau subprogram. | \n",
        "|Program yang dibangun menggunakan paradigma ini mungkin membutuhkan waktu lebih lama untuk dibuat.| Penulisan program masih dibawah kompleks dari OOP| \n",
        "|Lebih sulit dipahami dan dipelajari bagi programmer pemula.| Operasi program lebih diutamakan dibandingkan dengan pengolahan data, sehingga kurang cocok untuk digunakan dalam pengembangan program yang sensitif terhadap data. |"
      ],
      "metadata": {
        "id": "jYQgBwKnErla"
      }
    },
    {
      "cell_type": "markdown",
      "source": [
        "## **3. Jelaskan menggunakan tabel mengenai kelebihan dan kekurangan paradigma Procedural dibandingkan dengan Functional (minimal 3) !**"
      ],
      "metadata": {
        "id": "rgs9ziacEhgJ"
      }
    },
    {
      "cell_type": "markdown",
      "source": [
        "## **Kelebihan Procedural dibandingkan Functional**"
      ],
      "metadata": {
        "id": "l57vjlWMfnHz"
      }
    },
    {
      "cell_type": "code",
      "source": [
        "from tabulate import tabulate\n",
        "data = [[\"Data bersifat mutable\",\"Data bersifat imutable\"],\n",
        "        [\"Lebih mudah dipahami\",\"Lebih sulit dipahami\"],\n",
        "        [\"Penulisan loop yang normal\",\"Penulisan loop yang mengintimidasi\"]]\n",
        "        \n",
        "print(tabulate(data, headers=[\"Procedural\",\"Functional\"],tablefmt=\"fancy_grid\"))"
      ],
      "metadata": {
        "id": "jHQ_7QzhgQzd",
        "colab": {
          "base_uri": "https://localhost:8080/"
        },
        "outputId": "26359e15-ada4-4542-c489-3a1d7e6fc85e"
      },
      "execution_count": 1,
      "outputs": [
        {
          "output_type": "stream",
          "name": "stdout",
          "text": [
            "╒════════════════════════════╤════════════════════════════════════╕\n",
            "│ Procedural                 │ Functional                         │\n",
            "╞════════════════════════════╪════════════════════════════════════╡\n",
            "│ Data bersifat mutable      │ Data bersifat imutable             │\n",
            "├────────────────────────────┼────────────────────────────────────┤\n",
            "│ Lebih mudah dipahami       │ Lebih sulit dipahami               │\n",
            "├────────────────────────────┼────────────────────────────────────┤\n",
            "│ Penulisan loop yang normal │ Penulisan loop yang mengintimidasi │\n",
            "╘════════════════════════════╧════════════════════════════════════╛\n"
          ]
        }
      ]
    },
    {
      "cell_type": "markdown",
      "source": [
        "## **Kekurangan Procedural dibandingkan Functional**"
      ],
      "metadata": {
        "id": "jrDUVk9Xg6hK"
      }
    },
    {
      "cell_type": "code",
      "source": [
        "from tabulate import tabulate\n",
        "data = [[\"Debugging lebih susah dibanding functional\",\"Debugging lebih mudah\"],\n",
        "        [\"Kurang cocok digunakan untuk tugas tertentu\",\"cocok digunakan untuk tugas tertentu\"],\n",
        "        [\"Jarang menggunakan fungsi\",\"Lebih sering menggunakan fungsi sehingga kode lebih sedikit\"]]\n",
        "        \n",
        "print(tabulate(data, headers=[\"Procedural\",\"Functional\"],tablefmt=\"fancy_grid\"))"
      ],
      "metadata": {
        "colab": {
          "base_uri": "https://localhost:8080/"
        },
        "id": "k_Sn8GNShATM",
        "outputId": "89c3d4e8-de7d-41b7-a438-1dd096f82b00"
      },
      "execution_count": 2,
      "outputs": [
        {
          "output_type": "stream",
          "name": "stdout",
          "text": [
            "╒═════════════════════════════════════════════╤═════════════════════════════════════════════════════════════╕\n",
            "│ Procedural                                  │ Functional                                                  │\n",
            "╞═════════════════════════════════════════════╪═════════════════════════════════════════════════════════════╡\n",
            "│ Debugging lebih susah dibanding functional  │ Debugging lebih mudah                                       │\n",
            "├─────────────────────────────────────────────┼─────────────────────────────────────────────────────────────┤\n",
            "│ Kurang cocok digunakan untuk tugas tertentu │ cocok digunakan untuk tugas tertentu                        │\n",
            "├─────────────────────────────────────────────┼─────────────────────────────────────────────────────────────┤\n",
            "│ Jarang menggunakan fungsi                   │ Lebih sering menggunakan fungsi sehingga kode lebih sedikit │\n",
            "╘═════════════════════════════════════════════╧═════════════════════════════════════════════════════════════╛\n"
          ]
        }
      ]
    },
    {
      "cell_type": "markdown",
      "source": [
        "## **4. Apa yang dimaksud dengan pure functional programming language?**"
      ],
      "metadata": {
        "id": "jZsQEbhmhEdR"
      }
    },
    {
      "cell_type": "markdown",
      "source": [
        "Functional programming adalah paradigma pemrograman yang ada sebelum munculnya object-oriented. Pada dasarnya, functional programming memperlakukan fungsi dan data sebagai immutable atau tidak berubah. Dalam functional programmin, function tidak boleh mengubah data asli atau status program."
      ],
      "metadata": {
        "id": "sB-OAt90Bmbp"
      }
    },
    {
      "cell_type": "markdown",
      "source": [
        "## **5. Dari bahasa pemrograman FP di slide sebelumnya ( slide 14 ) , manakah yang termasuk pure functional programming language?**"
      ],
      "metadata": {
        "id": "qsMiLVoohOk4"
      }
    },
    {
      "cell_type": "markdown",
      "source": [
        "*   Lisp\n",
        "*   Haskell\n",
        "*   Scala\n",
        "*   Java Script\n",
        "*   Python"
      ],
      "metadata": {
        "id": "s-5WfChBhYaM"
      }
    },
    {
      "cell_type": "markdown",
      "source": [
        "# <h2 style = \"text-align : center; font-weight:bold;\"> Simple Password encryption </h2>\n",
        "<br>\n",
        "Seorang user dari sebuah website ingin meningkatkan security dari password yang dia miliki dengan metode mengubah password nya menjadi bentuk lain dengan beberapa aturan enkripsi sebagai berikut: \n",
        "\n",
        "1. Input password bertipe string dengan batasan panjang password 100 karakter \n",
        "2. Setiap karakter dari string tersebut diubah menjadi ASCII value \n",
        "3. Kemudian setiap ASCII value tersebut dikembangkan menjadi 3 value dengan dilakukan operasi berikut: <br>\n",
        "    a. Value pertama dibagi dengan integer 26 kemudian dibulatkan dan dijumlahkan dengan 80 kemudian diubah kembali menjadi karakter <br>\n",
        "    b. Value kedua dihitung sisa bagi dengan 26 kemudian dijumlahkan dengan 80 kemudian diubah kembali menjadi karakter <br>\n",
        "    c. Value ketiga adalah karakter ‘+’ jika value pertama lebih besar dari value kedua, atau value ketiga adalah karakter ‘-’ jika value pertama tidak lebih besar dari value kedua \n",
        "4. Deretkan value pertama, kedua dan ketiga untuk setiap karakter dalam password tersebut sehingga didapatkan password dalam bentuk baru"
      ],
      "metadata": {
        "id": "ssmMdt5HhZY8"
      }
    },
    {
      "cell_type": "code",
      "source": [
        "def encrypt_password(password):\n",
        "  if len(password) > 100:\n",
        "    return \"Error, karakter lebih dari 100\"\n",
        "\n",
        "  encrypted_password = \"\"\n",
        "  for char in password:\n",
        "    ascii_value = ord(char)\n",
        "    first_value = int((ascii_value / 26) + 80)\n",
        "    second_value = (ascii_value % 26) + 80\n",
        "    third_value = '+' if first_value > second_value else '-'\n",
        "    encrypted_password += chr(first_value) + chr(second_value) + third_value\n",
        "\n",
        "  return encrypted_password"
      ],
      "metadata": {
        "id": "k-9IJa0Pl7TE"
      },
      "execution_count": 7,
      "outputs": []
    },
    {
      "cell_type": "code",
      "source": [
        "\n",
        "print(encrypt_password(\"audreyribka\"))"
      ],
      "metadata": {
        "colab": {
          "base_uri": "https://localhost:8080/"
        },
        "id": "Cci8FO1il8yI",
        "outputId": "385d279a-e9a0-4717-ef5f-82741adb27a9"
      },
      "execution_count": 8,
      "outputs": [
        {
          "output_type": "stream",
          "name": "stdout",
          "text": [
            "Sc-T]-Sf-TZ-Sg-Ta-TZ-TQ+Sd-TS+Sc-\n"
          ]
        }
      ]
    },
    {
      "cell_type": "markdown",
      "source": [
        "### soal"
      ],
      "metadata": {
        "id": "4dy6RbGoh0q0"
      }
    },
    {
      "cell_type": "markdown",
      "source": [
        "1. Bantulah user tersebut dengan membuatkan sebuah program yang secara otomatis mengubah password yang di input menjadi terenkripsi sesuai aturan tersebut! "
      ],
      "metadata": {
        "id": "ZWG2F9o9hy9O"
      }
    },
    {
      "cell_type": "code",
      "execution_count": 3,
      "metadata": {
        "id": "Kq53nWj8fIe4"
      },
      "outputs": [],
      "source": [
        "def enkripsi(password_audrey):\n",
        "  if len(password_audrey) > 100 or len(password_audrey) == 0:\n",
        "    print(\"Masukkan 1-100 Karakter Password\")\n",
        "  else:\n",
        "    ascii = [str(ord(s)) for  s in password_audrey]\n",
        "    enkripsi_pw = ''.join(chr((int(y)//26)+80)+chr((int(y)%26)+80)+('+' if (int(y)//26)+80 > (int(y)%26)+80 else '-') for  y in ascii)\n",
        "    print(\"Enkripsi Password: \", enkripsi_pw)\n",
        "\n",
        "def dekripsi(password_audrey):\n",
        "  split_password = [(password_audrey[i:i+3]) for i in range(0, len(password_audrey), 3)]\n",
        "  dekripsi_pw = ''.join(chr(((ord(list(f)[0])-80)*26)+(ord(list(f)[1])-80)) for f in split_password)\n",
        "  print(\"Password Asli: \", dekripsi_pw)"
      ]
    },
    {
      "cell_type": "markdown",
      "source": [
        "2. Apa output yang dihasilkan dari program tersebut jika input password adalah ‘anakanakcerdas2020’? "
      ],
      "metadata": {
        "id": "ulnjcwHCiFwq"
      }
    },
    {
      "cell_type": "code",
      "source": [
        "password_audrey = input(\"Masukkan Password Asli: \")\n",
        "enkripsi(password_audrey)"
      ],
      "metadata": {
        "id": "mRCnW_bOfMns",
        "colab": {
          "base_uri": "https://localhost:8080/"
        },
        "outputId": "679c9d33-32a9-42ef-9378-245d0990276b"
      },
      "execution_count": 5,
      "outputs": [
        {
          "output_type": "stream",
          "name": "stdout",
          "text": [
            "Masukkan Password Asli: anakanakcerdas2020\n",
            "Enkripsi Password:  Sc-TV-Sc-TS+Sc-TV-Sc-TS+Se-Sg-TZ-Sf-Sc-T[-Qh-Qf-Qh-Qf-\n"
          ]
        }
      ]
    },
    {
      "cell_type": "code",
      "source": [
        "enkripsi_password = input(\"Masukkan Enkripsi Password: \")\n",
        "dekripsi(enkripsi_password)"
      ],
      "metadata": {
        "colab": {
          "base_uri": "https://localhost:8080/"
        },
        "id": "17RqDAtcfPcy",
        "outputId": "a9a27062-2039-4072-d0f3-5c1bf6b409fd"
      },
      "execution_count": 6,
      "outputs": [
        {
          "output_type": "stream",
          "name": "stdout",
          "text": [
            "Masukkan Enkripsi Password: Sc-TV-Sc-TS+Sc-TV-Sc-TS+Se-Sg-TZ-Sf-Sc-T[-Qh-Qf-Qh-Qf-\n",
            "Password Asli:  anakanakcerdas2020\n"
          ]
        }
      ]
    }
  ]
}